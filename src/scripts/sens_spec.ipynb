{
 "cells": [
  {
   "attachments": {},
   "cell_type": "markdown",
   "metadata": {},
   "source": [
    "## Risk as Function of Sensitivity and Specificity\n",
    "\n",
    "I noticed that in the plot for the risk in LNL IV as a function of sensitivity and specificity, the risk goes down and up again with a rising specificity. Here, I wanted to investigate how that can be.\n",
    "\n",
    "<img src=\"../tex/figures/wg_sens_spec_risks.png\" width=\"700\">\n",
    "\n",
    "For illustrative purposes, we can look at a simpler model with only the LNLs III and IV:\n",
    "\n",
    "```mermaid\n",
    "flowchart LR\n",
    "    tumor((T)) --> lnl3((III))\n",
    "    tumor((T)) --> lnl4((IV))\n",
    "    lnl3((III)) --> lnl4((IV))\n",
    "```\n",
    "\n",
    "In this case, the risk $P( X_4 = 🟢 \\mid D_3 = 🔴, D_4 = 🟢 )$ can be written as\n",
    "\n",
    "$$\n",
    "\\begin{aligned}\n",
    "P( X_4 = 🟢 \\mid D_3 = 🔴, D_4 = 🟢 ) &= \\frac{\n",
    "    \\sum_{x_3 \\in \\{ 🟢,🔴 \\}}{ P( D_3 = 🔴 \\mid X_3 = x_3 ) \\cdot P( D_4 = 🟢 \\mid X_4 = 🔴 ) \\cdot P(X_3 = x_3, X_4 = 🔴) }\n",
    "}{\n",
    "    \\sum_{\\substack{x_3 \\in \\{ 🟢,🔴 \\} \\\\ x_4 \\in \\{ 🟢,🔴 \\}}}{ P( D_3 = 🔴 \\mid X_3 = x_3 ) \\cdot P( D_4 = 🟢 \\mid X_4 = x_4 ) \\cdot P(X_4 = x_4) }\n",
    "} \\\\\n",
    "&= \\frac{\n",
    "    (1 - s_P) \\cdot \\left[ (1 - s_N) \\cdot P(X_3 = 🟢, X_4 = 🔴) + s_N \\cdot P(X_3 = 🔴, X_4 = 🔴) \\right]\n",
    "}{\n",
    "    (1 - s_P) \\cdot \\left[ (1 - s_N) \\cdot P(X_3 = 🟢, X_4 = 🔴) + s_N \\cdot P(X_3 = 🔴, X_4 = 🔴) \\right]\n",
    "    + s_P \\cdot \\left[ (1 - s_P) \\cdot P(X_3 = 🟢, X_4 = 🟢) + s_N \\cdot P(X_3 = 🔴, X_4 = 🟢) \\right]\n",
    "} \\\\\n",
    "&= \\frac{\n",
    "    \\alpha + \\beta - \\alpha \\cdot s_P\n",
    "}{\n",
    "    \\alpha + \\beta + \\left( \\delta + \\gamma - \\alpha \\right) \\cdot s_P - \\gamma \\cdot s_P^2\n",
    "}\n",
    "\\end{aligned}\n",
    "$$\n",
    "\n",
    "Which we can now plot for varying values of $\\alpha, \\beta, \\gamma \\in [0,1]$:"
   ]
  },
  {
   "cell_type": "code",
   "execution_count": null,
   "metadata": {},
   "outputs": [],
   "source": [
    "import numpy as np\n",
    "import matplotlib.pyplot as plt\n",
    "\n",
    "def risk(d3, d4, x3, x4, marg3=0.1, marg4=0.5):\n",
    "    d3 = int(d3)\n",
    "    d4 = int(d4)\n",
    "    x3 = int(x3)\n",
    "    x4 = int(x4)\n",
    "\n",
    "    prior = np.outer(\n",
    "        [1. - marg3, marg3],\n",
    "        [1. - marg4, marg4],\n",
    "    )\n",
    "    def inner(spec, sens):\n",
    "        spsn = np.diag([spec, sens]) + np.diag([1. - spec, 1. - sens])[::-1]\n",
    "        enum = prior[x4,x3] * spsn[d3,x3] * spsn[d4,x4]\n",
    "        denom = np.sum(prior[:,:] * spsn[d3,:] * spsn[d4,:])\n",
    "        return enum / denom\n",
    "    return inner"
   ]
  },
  {
   "cell_type": "code",
   "execution_count": null,
   "metadata": {},
   "outputs": [],
   "source": [
    "sens = 0.5\n",
    "\n",
    "risk3and4_given3not4 = risk(d3=True, d4=False, x3=True, x4=True)\n",
    "risknot3and4_given3not4 = risk(d3=True, d4=False, x3=False, x4=True)\n",
    "\n",
    "specs = np.linspace(0.5, 1., 100)\n",
    "y = np.empty_like(specs)\n",
    "for i,spec in enumerate(specs):\n",
    "    y[i] = risk3and4_given3not4(spec, sens) + risknot3and4_given3not4(spec, sens)\n",
    "\n",
    "plt.plot(specs, y)"
   ]
  },
  {
   "cell_type": "code",
   "execution_count": null,
   "metadata": {},
   "outputs": [],
   "source": [
    "def ana_risk(spec, alpha=None, beta=None, gamma=None, delta=None):\n",
    "    alpha = np.random.uniform() if alpha is None else alpha\n",
    "    beta = np.random.uniform() if beta is None else beta\n",
    "    gamma = np.random.uniform() if gamma is None else gamma\n",
    "    delta = np.random.uniform() if delta is None else delta\n",
    "\n",
    "    return (alpha + beta - alpha * spec) / (alpha + beta + (delta + gamma - alpha) * spec - gamma * spec**2)"
   ]
  },
  {
   "cell_type": "code",
   "execution_count": null,
   "metadata": {},
   "outputs": [],
   "source": [
    "specs = np.linspace(0.5, 1., 100)\n",
    "\n",
    "plt.plot(specs, ana_risk(specs))"
   ]
  }
 ],
 "metadata": {
  "kernelspec": {
   "display_name": "Python 3",
   "language": "python",
   "name": "python3"
  },
  "language_info": {
   "codemirror_mode": {
    "name": "ipython",
    "version": 3
   },
   "file_extension": ".py",
   "mimetype": "text/x-python",
   "name": "python",
   "nbconvert_exporter": "python",
   "pygments_lexer": "ipython3",
   "version": "3.10.0"
  }
 },
 "nbformat": 4,
 "nbformat_minor": 2
}
